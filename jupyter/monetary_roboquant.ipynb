{
 "cells": [
  {
   "cell_type": "code",
   "execution_count": null,
   "id": "09adb00f-8ea5-428a-8b5e-0cae143a1359",
   "metadata": {},
   "outputs": [
    {
     "name": "stdout",
     "output_type": "stream",
     "text": [
      "Note: you may need to restart the kernel to use updated packages.\n"
     ]
    }
   ],
   "source": [
    "%pip install \"roboquant==1.6.3\" --quiet\n",
    "\n",
    "from datetime import datetime\n",
    "from roboquant.monetary import Amount, Wallet, EUR, USD, GBP, Currency, ECBConversion"
   ]
  },
  {
   "cell_type": "markdown",
   "id": "bb363bf6-659d-45b4-8b19-8f3e3e86dad1",
   "metadata": {},
   "source": [
    "# Amount\n",
    "An amount holds a monetary value in a single currency. There are several ways to create an `Amount`. You can also define your own Currency and use that to create amounts."
   ]
  },
  {
   "cell_type": "code",
   "execution_count": 2,
   "id": "f3400668-2a57-41b9-b5ca-b6815c6301ce",
   "metadata": {},
   "outputs": [],
   "source": [
    "# Different ways to create an Amount\n",
    "amt1 = Amount(USD, 100.0)\n",
    "amt2 = USD(100)\n",
    "amt3 = 100@USD\n",
    "assert amt1 == amt2 == amt3\n",
    "\n",
    "# Define your own currency\n",
    "DOGE = Currency(\"DOGE\")\n",
    "amt4 = 100@DOGE"
   ]
  },
  {
   "cell_type": "markdown",
   "id": "9568ca38-c9f2-4c04-8b33-3c66151745ce",
   "metadata": {},
   "source": [
    "# Wallet\n",
    "A wallet holds amounts of different currencies. Conversion between currencies are explicit, otherwise it will only adds amounts of the same currency."
   ]
  },
  {
   "cell_type": "code",
   "execution_count": 3,
   "id": "425a3c91",
   "metadata": {},
   "outputs": [
    {
     "name": "stdout",
     "output_type": "stream",
     "text": [
      "100.00@GBP + 100.00@EUR + 50.00@USD\n"
     ]
    }
   ],
   "source": [
    "w = Wallet(50@GBP)\n",
    "w += 100@EUR + 50@USD + 50@GBP\n",
    "print(w)"
   ]
  },
  {
   "cell_type": "markdown",
   "id": "762d9e7e-96af-4fe0-ae69-7c21048f69de",
   "metadata": {},
   "source": [
    "# Conversions\n",
    "Roboquant can convert between amounts of different currencies. Depending om the configured converter, it is allo capable of taking the date of the conversion into account. This is especially useful during back testing over longer periods of time.\n",
    "\n",
    "By default there is no currency converter configured. But it is easy to register one on the included ones, like the `ECBConversion`."
   ]
  },
  {
   "cell_type": "code",
   "execution_count": 4,
   "id": "b598cd5c-8238-4ca6-8408-0ff27a4938bc",
   "metadata": {},
   "outputs": [
    {
     "name": "stdout",
     "output_type": "stream",
     "text": [
      "92.31@EUR\n",
      "69.49753283758426\n",
      "287.77@USD\n",
      "355.31023782813554\n"
     ]
    }
   ],
   "source": [
    "# Use the exchange rates from the European Central Bank to convert amounts\n",
    "ECBConversion().register()\n",
    "\n",
    "dt = datetime.fromisoformat(\"2010-01-01T00:00:00+00:00\")\n",
    "\n",
    "# Convert 100 USD to EUR at todays exchange rates\n",
    "print(100@USD@EUR)\n",
    "\n",
    "# Convert 100 USD to EUR at 2010 exchange rates\n",
    "print((100@USD).convert_to(EUR, dt))\n",
    "\n",
    "# Convert the wallet to USD at todays exchange rates\n",
    "print(w@USD)\n",
    "\n",
    "# Convert the wallet to USD at 2010 exchange rates\n",
    "print(w.convert_to(USD, dt))"
   ]
  },
  {
   "cell_type": "code",
   "execution_count": null,
   "id": "ea723478-4421-44c4-acb3-9846066ae969",
   "metadata": {},
   "outputs": [],
   "source": []
  }
 ],
 "metadata": {
  "kernelspec": {
   "display_name": "Python 3 (ipykernel)",
   "language": "python",
   "name": "python3"
  },
  "language_info": {
   "codemirror_mode": {
    "name": "ipython",
    "version": 3
   },
   "file_extension": ".py",
   "mimetype": "text/x-python",
   "name": "python",
   "nbconvert_exporter": "python",
   "pygments_lexer": "ipython3",
   "version": "3.11.6"
  }
 },
 "nbformat": 4,
 "nbformat_minor": 5
}
